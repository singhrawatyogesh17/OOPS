{
  "nbformat": 4,
  "nbformat_minor": 0,
  "metadata": {
    "colab": {
      "provenance": []
    },
    "kernelspec": {
      "name": "python3",
      "display_name": "Python 3"
    },
    "language_info": {
      "name": "python"
    }
  },
  "cells": [
    {
      "cell_type": "markdown",
      "source": [
        "## Theoretical questions:\n"
      ],
      "metadata": {
        "id": "rif1W_5pGGV9"
      }
    },
    {
      "cell_type": "markdown",
      "source": [
        " 1.  What is Object-Oriented Programming (OOP)?\n",
        " - Object-Oriented Programming or OOPs refers to languages that use objects in programming.The main aim of OOP is to bind together the data and the functions that operate on them so that no other part of the code can access this data except that function.\n",
        "\n",
        " 2. What is a class in OOP?\n",
        "\n",
        " - A class is a user-defined data type. It consists of data members and member functions, which can be accessed and used by creating an instance of that class. It represents the set of properties or methods that are common to all objects of one type. A class is like a blueprint for an object.\n",
        "\n",
        " 3.  What is an object in OOP?\n",
        "\n",
        " -   3.  What is an object in OOP?\n",
        "An object is a basic unit of Object-Oriented Programming and represents the real-life entities. An Object is an instance of a Class. When a class is defined, no memory is allocated but when it is instantiated (i.e. an object is created) memory is allocated. An object has an identity, state, and behavior. Each object contains data and code to manipulate the data.\n",
        "\n",
        "4.  What is the difference between abstraction and encapsulation?\n",
        "\n",
        "- Data abstraction is one of the most essential and important features of object-oriented programming. Data abstraction refers to providing only essential information about the data to the outside world, hiding the background details or implementation.\n",
        "\n",
        "- Encapsulation is defined as the wrapping up of data under a single unit. It is the mechanism that binds together code and the data it manipulates. In Encapsulation, the variables or data of a class are hidden from any other class and can be accessed only through any member function of their class in which they are declared. As in encapsulation, the data in a class is hidden from other classes, so it is also known as data-hiding.\n",
        "\n",
        "5. What are dunder methods in Python?\n",
        "\n",
        "- Python Magic methods are the methods starting and ending with double underscores '__'. They are defined by built-in classes in Python and commonly used for operator overloading.\n",
        "They are also called Dunder methods, Dunder here means Double Under (Underscores).\n",
        "\n",
        "6. Explain the concept of inheritance in OOP?\n",
        "\n",
        "- Inheritance is an important pillar of OOP(Object-Oriented Programming). The capability of a class to derive properties and characteristics from another class is called Inheritance. When we write a class, we inherit properties from other classes. So when we create a class, we do not need to write all the properties and functions again and again, as these can be inherited from another class that possesses it. Inheritance allows the user to reuse the code whenever possible and reduce its redundancy.\n",
        "\n",
        "7.  What is polymorphism in OOP?\n",
        "\n",
        "- Polymorphism is a fundamental concept in Object-Oriented Programming (OOP) that allows objects of different types to be accessed through the same interface. It enables a single action to be performed in different ways, depending on the object that is invoking the action\n",
        "\n",
        "8.  How is encapsulation achieved in Python?\n",
        "\n",
        "- Encapsulation is the process of hiding the internal state of an object and requiring all interactions to be performed through an object’s methods. This approach:\n",
        "\n",
        "Provides better control over data.\n",
        "Prevents accidental modification of data.\n",
        "Promotes modular programming.\n",
        "Python achieves encapsulation through public, protected and private attributes.\n",
        "\n",
        "9.  What is a constructor in Python?\n",
        "\n",
        "- A constructor in Python is a special method that is automatically called when an instance (object) of a class is created. The primary purpose of a constructor is to initialize the attributes of the object. In Python, the constructor method is named __init__().\n",
        "\n",
        "10.  What are class and static methods in Python?\n",
        "\n",
        "- The @classmethod decorator is a built-in function decorator that is an expression that gets evaluated after your function is defined. The result of that evaluation shadows your function definition. A class method receives the class as an implicit first argument, just like an instance method receives the instance\n",
        "\n",
        "* Syntax : class C(object):\n",
        "    @classmethod\n",
        "    def fun(cls, arg1, arg2, ...):\n",
        "\n",
        "- A static method does not receive an implicit first argument. A static method is also a method that is bound to the class and not the object of the class. This method can’t access or modify the class state. It is present in a class because it makes sense for the method to be present in class.\n",
        "\n",
        "* Syntax : class C(object):\n",
        "    @staticmethod\n",
        "    def fun(arg1, arg2, ...):\n",
        "        ...\n",
        "\n",
        "11. What is method overloading in Python?\n",
        "\n",
        "- Method overloading is a feature in object-oriented programming where multiple methods with the same name can exist but with different parameters. This allows a method to perform different tasks based on the number or type of arguments passed. However, Python does not support method overloading by default like some other languages such as Java or C++.\n",
        "\n",
        "12. What is method overriding in OOP?\n",
        "\n",
        "- Method overriding is an ability of any object-oriented programming language that allows a subclass or child class to provide a specific implementation of a method that is already provided by one of its super-classes or parent classes. When a method in a subclass has the same name, the same parameters or signature, and same return type(or sub-type) as a method in its super-class, then the method in the subclass is said to override the method in the super-class.\n",
        "\n",
        "13.  What is a property decorator in Python?\n",
        "\n",
        "- @property decorator is a built-in decorator in Python which is helpful in defining the properties effortlessly without manually calling the inbuilt function property(). Which is used to return the property attributes of a class from the stated getter, setter and deleter as parameters.\n",
        "\n",
        "14.  Why is polymorphism important in OOP?\n",
        "\n",
        "- One of the primary advantages of polymorphism is code reusability. It allows developers to reuse existing code and classes, which saves time and effort.\n",
        "Polymorphism provides flexibility to the code by allowing a single method to perform different functions based on the input. This makes the code more adaptable to changes and easier to maintain.\n",
        "\n",
        "15. What is an abstract class in Python?\n",
        "\n",
        "- In Python, an abstract class is a class that cannot be instantiated on its own and is designed to be a blueprint for other classes. Abstract classes allow us to define methods that must be implemented by subclasses, ensuring a consistent interface while still allowing the subclasses to provide specific implementations.\n",
        "\n",
        "16. What are the advantages of OOP?\n",
        "\n",
        "- We can build the programs from standard working modules that communicate with one another, rather than having to start writing the code from scratch which leads to saving of development time and higher productivity.\n",
        "\n",
        "OOP language allows to break the program into the bit-sized problems that can be solved easily (one object at a time).\n",
        "\n",
        "The new technology promises greater programmer productivity, better quality of software and lesser maintenance cost.\n",
        "OOP systems can be easily upgraded from small to large systems.\n",
        "\n",
        "It is possible that multiple instances of objects co-exist without any interference.\n",
        "\n",
        "The principle of data hiding helps the programmer to build secure programs which cannot be invaded by the code in other parts of the program.\n",
        "By using inheritance, we can eliminate redundant code and extend the use of existing classes.\n",
        "\n",
        "17. What is the difference between a class variable and an instance variable?\n",
        "\n",
        "- Instance Variable: It is basically a class variable without a static modifier and is usually shared by all class instances. Across different objects, these variables can have different values. They are tied to a particular object instance of the class, therefore, the contents of an instance variable are totally independent of one object instance to others.\n",
        "\n",
        "Class Variable: It is basically a static variable that can be declared anywhere at class level with static. Across different objects, these variables can have only one value. These variables are not tied to any particular object of the class, therefore, can share across all objects of the class.  \n",
        "\n",
        "18. What is multiple inheritance in Python?\n",
        "\n",
        "- When a class is derived from more than one parent class it is called multiple Inheritance. The derived class inherits all the features of the Parent Class.\n",
        "\n",
        "19.  Explain the purpose of ‘’__str__’ and ‘__repr__’ ‘ methods in Python?\n",
        "\n",
        "- str() it Returns a human-readable string representation of the object.It is Used for creating user-friendly output and for displaying the object as a string.\n",
        "\n",
        "repr() It Returns an unambiguous string representation of the object. It is Used for debugging and development purposes to get the complete information of an object.\n",
        "\n",
        "20.  What is the significance of the ‘super()’ function in Python ?\n",
        "\n",
        "- In Python, the super() function is used to refer to the parent class or superclass. It allows you to call methods defined in the superclass from the subclass, enabling you to extend and customize the functionality inherited from the parent class.\n",
        "\n",
        "Syntax : super()\n",
        "\n",
        "Need not remember or specify the parent class name to access its methods. This function can be used both in single and multiple inheritances.\n",
        "The super function in Python is called dynamically because Python is a dynamic language, unlike other languages.\n",
        "\n",
        "21.  What is the significance of the __del__ method in Python ?\n",
        "\n",
        "- The __del__ method is a special method in Python that is called when an object is about to be destroyed. It allows you to define specific cleanup actions that should be taken when an object is garbage collected. This method can be particularly useful for releasing external resources such as file handles, network connections, or database connections that the object may hold.\n",
        "When Python's garbage collector identifies that an object is no longer referenced by any part of the program, it schedules the __del__ method of that object to be called before reclaiming its memory.\n",
        "\n",
        "22. What is the difference between @staticmethod and @classmethod in Python ?\n",
        "\n",
        "- *A class method takes cls as the first parameter while a static method needs no specific parameters.\n",
        "\n",
        "* A class method can access or modify the class state while a static method can’t access or modify it.\n",
        "\n",
        "* In general, static methods know nothing about the class state. They are utility-type methods that take some parameters and work upon those parameters. On the other hand class methods must have class as a parameter.\n",
        "\n",
        "* We use @classmethod decorator in python to create a class method and we use @staticmethod decorator to create a static method in python.\n",
        "\n",
        "23.  How does polymorphism work in Python with inheritance?\n",
        "\n",
        "- Inheritance-based polymorphism occurs when a subclass overrides a method from its parent class, providing a specific implementation. This process of re-implementing a method in the child class is known as Method Overriding.  \n",
        "\n",
        "24. What is method chaining in Python OOP?\n",
        "\n",
        "- Method chaining is a powerful technique in Python programming that allows us to call multiple methods on an object in a single, continuous line of code. This approach makes the code cleaner, more readable, and often easier to maintain. It is frequently used in data processing, object-oriented programming, and frameworks such as Pandas.\n",
        "\n",
        "25. What is the purpose of the __call__ method in Python??\n",
        "\n",
        "- In Python, the __call__ method is a special method that allows an instance of a class to be called as if it were a function. This method can be defined within a class to make its instances callable, providing a flexible way to add functionality to objects.\n",
        "\n",
        "\n",
        "\n",
        "\n",
        "\n",
        "\n",
        "\n",
        "\n"
      ],
      "metadata": {
        "id": "SVIEvMnDGNNc"
      }
    },
    {
      "cell_type": "markdown",
      "source": [
        "## Practical Questions:\n"
      ],
      "metadata": {
        "id": "Bm2HMu-aRm3f"
      }
    },
    {
      "cell_type": "code",
      "source": [
        "# Create a parent class Animal with a method speak() that prints a generic message. Create a child class Dog\n",
        "# that overrides the speak() method to print \"Bark!\".\n",
        "\n",
        "# Create a parent class Animal with a method speak() that prints a generic message. Create a child class Dog\n",
        "# that overrides the speak() method to print \"Bark!\".\n",
        "\n",
        "class animal:\n",
        "  def speak(self):\n",
        "    print(\"generic message\")\n",
        "class dog(animal):\n",
        "  def speak(self):\n",
        "    print(\"Bark!\")\n",
        "\n",
        "d=dog()\n",
        "d.speak()\n",
        "\n",
        "\n",
        "\n",
        "\n",
        "\n",
        "\n",
        "\n",
        ""
      ],
      "metadata": {
        "colab": {
          "base_uri": "https://localhost:8080/"
        },
        "id": "gGvA2N5WRqtN",
        "outputId": "29a558ea-8891-4f6c-ade2-a076fea16a77"
      },
      "execution_count": 15,
      "outputs": [
        {
          "output_type": "stream",
          "name": "stdout",
          "text": [
            "Bark!\n"
          ]
        }
      ]
    },
    {
      "cell_type": "code",
      "source": [
        "#2.  Write a program to create an abstract class Shape with a method area(). Derive classes Circle and Rectangle\n",
        "#from it and implement the area() method in both.\n",
        "\n",
        "class shape():\n",
        "  def area(self):\n",
        "    pass\n",
        "class circle(shape):\n",
        "  def area(self,r):\n",
        "    print(3.14*r*r)\n",
        "class rectangle(shape):\n",
        "  def area(self,l,b):\n",
        "    print(l*b)\n",
        "\n",
        "c=circle()\n",
        "c.area(5)\n",
        "r=rectangle()\n",
        "r.area(5,6)"
      ],
      "metadata": {
        "colab": {
          "base_uri": "https://localhost:8080/"
        },
        "id": "iv1Z_50WUL4l",
        "outputId": "66e39fa3-2ba8-49df-a6b7-2b8a9ae222c5"
      },
      "execution_count": 21,
      "outputs": [
        {
          "output_type": "stream",
          "name": "stdout",
          "text": [
            "78.5\n",
            "30\n"
          ]
        }
      ]
    },
    {
      "cell_type": "code",
      "source": [
        "#3.  Implement a multi-level inheritance scenario where a class Vehicle has an attribute type. Derive a class Car\n",
        "#and further derive a class ElectricCar that adds a battery attribute.\n",
        "\n",
        "class vehicle():\n",
        "  def __init__(self,type):\n",
        "    self.type=type\n",
        "class car(vehicle):\n",
        "  def __init__(self,type,name):\n",
        "    self.name=name\n",
        "class ElectricCar(car):\n",
        "  def __init__(self,type,name,battery):\n",
        "    self.battery=battery\n",
        "    super().__init__(type,name)\n",
        "\n",
        "ElectricCar(\"Electric\", \"BYD\", \"Lithium-ion batteries\").battery\n",
        "\n",
        "ElectricCar(\"Electric\", \"BYD\", \"Lithium-ion batteries\").name\n",
        "\n"
      ],
      "metadata": {
        "colab": {
          "base_uri": "https://localhost:8080/",
          "height": 36
        },
        "id": "35ZmJjBpU3oy",
        "outputId": "4c768cea-982a-45b2-ab8b-04be4388e972"
      },
      "execution_count": 31,
      "outputs": [
        {
          "output_type": "execute_result",
          "data": {
            "text/plain": [
              "'BYD'"
            ],
            "application/vnd.google.colaboratory.intrinsic+json": {
              "type": "string"
            }
          },
          "metadata": {},
          "execution_count": 31
        }
      ]
    },
    {
      "cell_type": "code",
      "source": [
        "#4. Demonstrate polymorphism by creating a base class Bird with a method fly(). Create two derived classes\n",
        "#Sparrow and Penguin that override the fly() method.\n",
        "\n",
        "class bird():\n",
        "  def fly(self):\n",
        "    print(\"bird can fly\")\n",
        "class sparrow(bird):\n",
        "  def fly(self):\n",
        "    print(\"sparrow can fly\")\n",
        "\n",
        "class penguin(bird):\n",
        "  def fly(self):\n",
        "    print(\"penguin cannot fly\")\n",
        "\n",
        "s=sparrow()\n",
        "s.fly()\n",
        "p=penguin()\n",
        "p.fly()\n"
      ],
      "metadata": {
        "colab": {
          "base_uri": "https://localhost:8080/"
        },
        "id": "-iSvUXFMXGMN",
        "outputId": "57be96bb-018f-4428-b1e3-1d1f51096f7d"
      },
      "execution_count": 32,
      "outputs": [
        {
          "output_type": "stream",
          "name": "stdout",
          "text": [
            "sparrow can fly\n",
            "penguin cannot fly\n"
          ]
        }
      ]
    },
    {
      "cell_type": "code",
      "source": [
        "#5.  Write a program to demonstrate encapsulation by creating a class BankAccount with private attributes\n",
        "#balance and methods to deposit, withdraw, and check balance\n",
        "\n",
        "class bankaccount():\n",
        "  def __init__(self,balance):\n",
        "    self.__balance = balance\n",
        "  def deposit(self,amount):\n",
        "    self.__balance += amount\n",
        "  def withdraw(self,amount):\n",
        "    if amount > self.__balance:\n",
        "      print(\"Insufficient balance\")\n",
        "    else:\n",
        "      self.__balance -= amount\n",
        "  def check_balance(self):\n",
        "    return self.__balance\n",
        "\n",
        "\n",
        "b=bankaccount(1000)\n",
        "b.deposit(500)\n",
        "b.withdraw(200)\n",
        "b.check_balance()\n",
        "\n",
        "\n",
        "\n",
        "\n"
      ],
      "metadata": {
        "colab": {
          "base_uri": "https://localhost:8080/"
        },
        "id": "j4OViU9uXYdT",
        "outputId": "f9c6866a-5f95-40f8-cc5c-6cea7036d5af"
      },
      "execution_count": 56,
      "outputs": [
        {
          "output_type": "execute_result",
          "data": {
            "text/plain": [
              "1300"
            ]
          },
          "metadata": {},
          "execution_count": 56
        }
      ]
    },
    {
      "cell_type": "code",
      "source": [
        "#6.  Demonstrate runtime polymorphism using a method play() in a base class Instrument. Derive classes Guitar\n",
        "#and Piano that implement their own version of play().\n",
        "\n",
        "class Instrument():\n",
        "  def play(self):\n",
        "    print(\"Instrument is playing\")\n",
        "class Guitar(Instrument):\n",
        "  def play(self):\n",
        "    print(\"Guitar is playing\")\n",
        "class Piano(Instrument):\n",
        "  def play(self):\n",
        "    print(\"Piano is playing\")\n",
        "\n",
        "g=Guitar()\n",
        "g.play()\n",
        "p=Piano()\n",
        "p.play()"
      ],
      "metadata": {
        "colab": {
          "base_uri": "https://localhost:8080/"
        },
        "id": "aIpccz6Zbmna",
        "outputId": "f23d7c6d-a7fb-4a8a-f835-11c9aea21100"
      },
      "execution_count": 62,
      "outputs": [
        {
          "output_type": "stream",
          "name": "stdout",
          "text": [
            "Guitar is playing\n",
            "Piano is playing\n"
          ]
        }
      ]
    },
    {
      "cell_type": "code",
      "source": [
        "#7. . Create a class MathOperations with a class method add_numbers() to add two numbers and a static\n",
        "#method subtract_numbers() to subtract two numbers.\n",
        "\n",
        "class MathOperations():\n",
        "  @classmethod\n",
        "  def add_numbers(cls,a,b):\n",
        "    return a+b\n",
        "  @staticmethod\n",
        "  def subtract_numbers(a,b):\n",
        "    return a-b\n",
        "\n",
        "MathOperations.add_numbers(5,6)\n",
        "MathOperations.subtract_numbers(5,6)"
      ],
      "metadata": {
        "colab": {
          "base_uri": "https://localhost:8080/"
        },
        "id": "wfcrkppucled",
        "outputId": "696dae5a-b7bf-4525-d2bf-6c3b032296b0"
      },
      "execution_count": 65,
      "outputs": [
        {
          "output_type": "execute_result",
          "data": {
            "text/plain": [
              "-1"
            ]
          },
          "metadata": {},
          "execution_count": 65
        }
      ]
    },
    {
      "cell_type": "code",
      "source": [
        "#8.\n",
        "\n",
        "class person():\n",
        "  @classmethod\n",
        "  def count(cls):\n",
        "    return 0\n",
        "\n",
        "p = person.count()\n",
        "\n"
      ],
      "metadata": {
        "id": "h7PyUDdhc77e"
      },
      "execution_count": 78,
      "outputs": []
    },
    {
      "cell_type": "code",
      "source": [
        "# 9. Write a class Fraction with attributes numerator and denominator. Override the str method to display the\n",
        "#fraction as \"numerator/denominator\".\n",
        "\n",
        "class Fraction:\n",
        "    def __init__(self, numerator, denominator):\n",
        "        self.numerator = numerator\n",
        "        self.denominator = denominator\n",
        "\n",
        "    def __str__(self):\n",
        "        return f\"{self.numerator}/{self.denominator}\"\n",
        "\n",
        "\n",
        "\n",
        "\n",
        "\n",
        ""
      ],
      "metadata": {
        "id": "80jKv9ZbelDg"
      },
      "execution_count": 86,
      "outputs": []
    },
    {
      "cell_type": "code",
      "source": [
        "# 10. Demonstrate operator overloading by creating a class Vector and overriding the add method to add two\n",
        "#vectors.\n",
        "\n",
        "class Vector:\n",
        "    def __init__(self, x, y):\n",
        "        self.x = x\n",
        "        self.y = y\n",
        "\n",
        "    def __add__(self, other):\n",
        "        return Vector(self.x + other.x, self.y + other.y)\n",
        "\n",
        "v1 = Vector(1, 2)\n",
        "v2 = Vector(3, 4)\n",
        "v3 = v1 + v2\n",
        "print(v3.x, v3.y)\n",
        "\n"
      ],
      "metadata": {
        "colab": {
          "base_uri": "https://localhost:8080/"
        },
        "id": "6oS3M3IyfnfL",
        "outputId": "0427db06-a664-4136-d39a-10b42dd6b346"
      },
      "execution_count": 91,
      "outputs": [
        {
          "output_type": "stream",
          "name": "stdout",
          "text": [
            "4 6\n"
          ]
        }
      ]
    },
    {
      "cell_type": "code",
      "source": [
        "#11.  Create a class Person with attributes name and age. Add a method greet() that prints \"Hello, my name is\n",
        "#{name} and I am {age} years old.\n",
        "\n",
        "class Person():\n",
        "  def __init__(self,name,age):\n",
        "    self.name=name\n",
        "    self.age=age\n",
        "  def greet(self):\n",
        "    print(f\"Hello, my name is {self.name} and I am {self.age} years old.\")\n",
        "\n",
        "\n",
        "\n",
        ""
      ],
      "metadata": {
        "id": "z3ROgjeegKhb"
      },
      "execution_count": 98,
      "outputs": []
    },
    {
      "cell_type": "code",
      "source": [
        "#12. Implement a class Student with attributes name and grades. Create a method average_grade() to compute\n",
        "#the average of the grades\n",
        "\n",
        "class student():\n",
        "  def __init__(self,name,grades):\n",
        "    self.name=name\n",
        "    self.grades=grades\n",
        "  def average_grade(self):\n",
        "    return sum(self.grades)/len(self.grades)\n",
        "s = student(\"John\", [80, 90, 75, 95])\n",
        "s.average_grade()"
      ],
      "metadata": {
        "colab": {
          "base_uri": "https://localhost:8080/"
        },
        "id": "VWR2_eCkIepe",
        "outputId": "30a6e2b0-8003-4635-866f-e3d8bcff21d1"
      },
      "execution_count": 6,
      "outputs": [
        {
          "output_type": "execute_result",
          "data": {
            "text/plain": [
              "85.0"
            ]
          },
          "metadata": {},
          "execution_count": 6
        }
      ]
    },
    {
      "cell_type": "code",
      "source": [
        "#13.  Create a class Rectangle with methods set_dimensions() to set the dimensions and area() to calculate the\n",
        "#area\n",
        "\n",
        "class Rectangle():\n",
        "  def __init__(self,length,width):\n",
        "    self.length=length\n",
        "    self.width=width\n",
        "  def set_dimensions(self,length,width):\n",
        "    self.length=length\n",
        "    self.width=width\n",
        "  def area(self):\n",
        "    return self.length*self.width\n",
        "\n",
        "r=Rectangle(5,6)\n",
        "r.area()\n"
      ],
      "metadata": {
        "colab": {
          "base_uri": "https://localhost:8080/"
        },
        "id": "FGcG3rBFJ8Gs",
        "outputId": "9a99085f-b3b6-441c-ac8c-48764a2f1213"
      },
      "execution_count": 8,
      "outputs": [
        {
          "output_type": "execute_result",
          "data": {
            "text/plain": [
              "30"
            ]
          },
          "metadata": {},
          "execution_count": 8
        }
      ]
    },
    {
      "cell_type": "code",
      "source": [
        "#14. . Create a class Employee with a method calculate_salary() that computes the salary based on hours worked\n",
        "#and hourly rate. Create a derived class Manager that adds a bonus to the salary.\n",
        "\n",
        "class Employee():\n",
        "  def __init__(self,name,hours_worked,hourly_rate):\n",
        "    self.name=name\n",
        "    self.hours_worked=hours_worked\n",
        "    self.hourly_rate=hourly_rate\n",
        "  def calculate_salary(self):\n",
        "    return self.hours_worked*self.hourly_rate\n",
        "\n",
        "Emp1 = Employee(\"John\", 40, 15)\n",
        "Emp1.calculate_salary()\n"
      ],
      "metadata": {
        "colab": {
          "base_uri": "https://localhost:8080/"
        },
        "id": "WKJHi9FALLTE",
        "outputId": "8c34e22a-2ae4-4851-c929-8cb77bd88a3d"
      },
      "execution_count": 10,
      "outputs": [
        {
          "output_type": "execute_result",
          "data": {
            "text/plain": [
              "600"
            ]
          },
          "metadata": {},
          "execution_count": 10
        }
      ]
    },
    {
      "cell_type": "code",
      "source": [
        "#15. Create a class Product with attributes name, price, and quantity. Implement a method total_price() that\n",
        "#calculates the total price of the product.\n",
        "\n",
        "class Product():\n",
        "  def __init__(self,name,price,quantity):\n",
        "    self.name=name\n",
        "    self.price=price\n",
        "    self.quantity=quantity\n",
        "  def total_price(self):\n",
        "    return self.price*self.quantity"
      ],
      "metadata": {
        "id": "R-O1BDOTL2A8"
      },
      "execution_count": 11,
      "outputs": []
    },
    {
      "cell_type": "code",
      "source": [
        "product1 = Product(\"Laptop\", 1000, 2)\n",
        "product1.total_price()"
      ],
      "metadata": {
        "colab": {
          "base_uri": "https://localhost:8080/"
        },
        "id": "r6UgbS2dMdJl",
        "outputId": "d2b8fab1-682e-4e37-a10a-e1e83a81e515"
      },
      "execution_count": 12,
      "outputs": [
        {
          "output_type": "execute_result",
          "data": {
            "text/plain": [
              "2000"
            ]
          },
          "metadata": {},
          "execution_count": 12
        }
      ]
    },
    {
      "cell_type": "code",
      "source": [
        "#16. Create a class Animal with an abstract method sound(). Create two derived classes Cow and Sheep that\n",
        "#implement the sound() method.\n",
        "\n",
        "class Animal():\n",
        "  def sound(self):\n",
        "    pass\n",
        "class Cow(Animal):\n",
        "  def sound(self):\n",
        "    print(\"Moo\")\n",
        "class Sheep(Animal):\n",
        "  def sound(self):\n",
        "    print(\"Baa\")\n",
        "\n",
        "c=Cow()\n",
        "c.sound()\n"
      ],
      "metadata": {
        "colab": {
          "base_uri": "https://localhost:8080/"
        },
        "id": "joiUkPrEMhtT",
        "outputId": "9ebdced4-e710-4c50-ec2a-a9059b2c51b5"
      },
      "execution_count": 13,
      "outputs": [
        {
          "output_type": "stream",
          "name": "stdout",
          "text": [
            "Moo\n"
          ]
        }
      ]
    },
    {
      "cell_type": "code",
      "source": [
        "#17. Create a class Book with attributes title, author, and year_published. Add a method get_book_info() that\n",
        "#returns a formatted string with the book's details\n",
        "\n",
        "class Book():\n",
        "  def __init__(self,title,author,year_published):\n",
        "    self.title=title\n",
        "    self.author=author\n",
        "    self.year_published=year_published\n",
        "  def get_book_info(self):\n",
        "    return f\"Title: {self.title}\\nAuthor: {self.author}\\nYear Published: {self.year_published}\""
      ],
      "metadata": {
        "id": "H_F-mZhSMxUT"
      },
      "execution_count": 15,
      "outputs": []
    },
    {
      "cell_type": "code",
      "source": [
        "Book1 = Book(\"The Great Gatsby\", \"F. Scott Fitzgerald\", 1925)\n",
        "print(Book1.get_book_info())"
      ],
      "metadata": {
        "colab": {
          "base_uri": "https://localhost:8080/"
        },
        "id": "sg6UJVtpNNYZ",
        "outputId": "96c3d5ee-d240-4c62-c6d4-b55f99cac43c"
      },
      "execution_count": 16,
      "outputs": [
        {
          "output_type": "stream",
          "name": "stdout",
          "text": [
            "Title: The Great Gatsby\n",
            "Author: F. Scott Fitzgerald\n",
            "Year Published: 1925\n"
          ]
        }
      ]
    },
    {
      "cell_type": "code",
      "source": [
        "#18. Create a class House with attributes address and price. Create a derived class Mansion that adds an\n",
        "#attribute number_of_rooms\n",
        "\n",
        "class House():\n",
        "  def __init__(self,address,price):\n",
        "    self.address=address\n",
        "    self.price=price\n",
        "\n",
        "\n",
        "class Mansion(House):\n",
        "  def __init__(self,address,price,number_of_rooms):\n",
        "    self.number_of_rooms=number_of_rooms\n",
        "    super().__init__(address,price)\n",
        ""
      ],
      "metadata": {
        "id": "pFSSQpgPNRTr"
      },
      "execution_count": 17,
      "outputs": []
    },
    {
      "cell_type": "code",
      "source": [
        "H = Mansion(\"123 Main St\", 1000000, 8)\n",
        "print(H.address)\n",
        "print(H.price)\n",
        "print(H.number_of_rooms)"
      ],
      "metadata": {
        "colab": {
          "base_uri": "https://localhost:8080/"
        },
        "id": "DJsmSO1lNkH-",
        "outputId": "b17e384b-fb51-4773-f3a9-cce530e79e4a"
      },
      "execution_count": 18,
      "outputs": [
        {
          "output_type": "stream",
          "name": "stdout",
          "text": [
            "123 Main St\n",
            "1000000\n",
            "8\n"
          ]
        }
      ]
    },
    {
      "cell_type": "markdown",
      "source": [
        "## END OF ASSIGNMENT\n"
      ],
      "metadata": {
        "id": "V4JgFNeWNs79"
      }
    }
  ]
}